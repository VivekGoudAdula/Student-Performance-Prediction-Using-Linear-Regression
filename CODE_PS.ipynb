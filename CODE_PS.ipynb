{
 "cells": [
  {
   "cell_type": "code",
   "execution_count": 1,
   "id": "3aa30830-026e-492a-aba8-321ed99b89ae",
   "metadata": {
    "id": "3aa30830-026e-492a-aba8-321ed99b89ae"
   },
   "outputs": [],
   "source": [
    "import pandas as pd\n",
    "import numpy as np\n",
    "import sklearn\n",
    "from sklearn import linear_model\n",
    "from sklearn.utils import shuffle\n",
    "import matplotlib.pyplot as plt\n",
    "from matplotlib import style\n",
    "import pickle"
   ]
  },
  {
   "cell_type": "code",
   "execution_count": 2,
   "id": "FSanvVg-VmEk",
   "metadata": {
    "colab": {
     "base_uri": "https://localhost:8080/"
    },
    "id": "FSanvVg-VmEk",
    "outputId": "f86220b8-2ad3-4cbd-8735-848bcc81062a"
   },
   "outputs": [
    {
     "ename": "FileNotFoundError",
     "evalue": "[Errno 2] No such file or directory: '/content/student-mat.csv'",
     "output_type": "error",
     "traceback": [
      "\u001b[1;31m---------------------------------------------------------------------------\u001b[0m",
      "\u001b[1;31mFileNotFoundError\u001b[0m                         Traceback (most recent call last)",
      "Cell \u001b[1;32mIn[2], line 1\u001b[0m\n\u001b[1;32m----> 1\u001b[0m data \u001b[38;5;241m=\u001b[39m \u001b[43mpd\u001b[49m\u001b[38;5;241;43m.\u001b[39;49m\u001b[43mread_csv\u001b[49m\u001b[43m(\u001b[49m\u001b[38;5;124;43m\"\u001b[39;49m\u001b[38;5;124;43m/content/student-mat.csv\u001b[39;49m\u001b[38;5;124;43m\"\u001b[39;49m\u001b[43m,\u001b[49m\u001b[43m \u001b[49m\u001b[43mdelimiter\u001b[49m\u001b[38;5;241;43m=\u001b[39;49m\u001b[38;5;124;43m\"\u001b[39;49m\u001b[38;5;124;43m;\u001b[39;49m\u001b[38;5;124;43m\"\u001b[39;49m\u001b[43m)\u001b[49m\n\u001b[0;32m      2\u001b[0m \u001b[38;5;28mprint\u001b[39m(data\u001b[38;5;241m.\u001b[39mcolumns)\n",
      "File \u001b[1;32m~\\AppData\\Roaming\\Python\\Python312\\site-packages\\pandas\\io\\parsers\\readers.py:1026\u001b[0m, in \u001b[0;36mread_csv\u001b[1;34m(filepath_or_buffer, sep, delimiter, header, names, index_col, usecols, dtype, engine, converters, true_values, false_values, skipinitialspace, skiprows, skipfooter, nrows, na_values, keep_default_na, na_filter, verbose, skip_blank_lines, parse_dates, infer_datetime_format, keep_date_col, date_parser, date_format, dayfirst, cache_dates, iterator, chunksize, compression, thousands, decimal, lineterminator, quotechar, quoting, doublequote, escapechar, comment, encoding, encoding_errors, dialect, on_bad_lines, delim_whitespace, low_memory, memory_map, float_precision, storage_options, dtype_backend)\u001b[0m\n\u001b[0;32m   1013\u001b[0m kwds_defaults \u001b[38;5;241m=\u001b[39m _refine_defaults_read(\n\u001b[0;32m   1014\u001b[0m     dialect,\n\u001b[0;32m   1015\u001b[0m     delimiter,\n\u001b[1;32m   (...)\u001b[0m\n\u001b[0;32m   1022\u001b[0m     dtype_backend\u001b[38;5;241m=\u001b[39mdtype_backend,\n\u001b[0;32m   1023\u001b[0m )\n\u001b[0;32m   1024\u001b[0m kwds\u001b[38;5;241m.\u001b[39mupdate(kwds_defaults)\n\u001b[1;32m-> 1026\u001b[0m \u001b[38;5;28;01mreturn\u001b[39;00m \u001b[43m_read\u001b[49m\u001b[43m(\u001b[49m\u001b[43mfilepath_or_buffer\u001b[49m\u001b[43m,\u001b[49m\u001b[43m \u001b[49m\u001b[43mkwds\u001b[49m\u001b[43m)\u001b[49m\n",
      "File \u001b[1;32m~\\AppData\\Roaming\\Python\\Python312\\site-packages\\pandas\\io\\parsers\\readers.py:620\u001b[0m, in \u001b[0;36m_read\u001b[1;34m(filepath_or_buffer, kwds)\u001b[0m\n\u001b[0;32m    617\u001b[0m _validate_names(kwds\u001b[38;5;241m.\u001b[39mget(\u001b[38;5;124m\"\u001b[39m\u001b[38;5;124mnames\u001b[39m\u001b[38;5;124m\"\u001b[39m, \u001b[38;5;28;01mNone\u001b[39;00m))\n\u001b[0;32m    619\u001b[0m \u001b[38;5;66;03m# Create the parser.\u001b[39;00m\n\u001b[1;32m--> 620\u001b[0m parser \u001b[38;5;241m=\u001b[39m \u001b[43mTextFileReader\u001b[49m\u001b[43m(\u001b[49m\u001b[43mfilepath_or_buffer\u001b[49m\u001b[43m,\u001b[49m\u001b[43m \u001b[49m\u001b[38;5;241;43m*\u001b[39;49m\u001b[38;5;241;43m*\u001b[39;49m\u001b[43mkwds\u001b[49m\u001b[43m)\u001b[49m\n\u001b[0;32m    622\u001b[0m \u001b[38;5;28;01mif\u001b[39;00m chunksize \u001b[38;5;129;01mor\u001b[39;00m iterator:\n\u001b[0;32m    623\u001b[0m     \u001b[38;5;28;01mreturn\u001b[39;00m parser\n",
      "File \u001b[1;32m~\\AppData\\Roaming\\Python\\Python312\\site-packages\\pandas\\io\\parsers\\readers.py:1620\u001b[0m, in \u001b[0;36mTextFileReader.__init__\u001b[1;34m(self, f, engine, **kwds)\u001b[0m\n\u001b[0;32m   1617\u001b[0m     \u001b[38;5;28mself\u001b[39m\u001b[38;5;241m.\u001b[39moptions[\u001b[38;5;124m\"\u001b[39m\u001b[38;5;124mhas_index_names\u001b[39m\u001b[38;5;124m\"\u001b[39m] \u001b[38;5;241m=\u001b[39m kwds[\u001b[38;5;124m\"\u001b[39m\u001b[38;5;124mhas_index_names\u001b[39m\u001b[38;5;124m\"\u001b[39m]\n\u001b[0;32m   1619\u001b[0m \u001b[38;5;28mself\u001b[39m\u001b[38;5;241m.\u001b[39mhandles: IOHandles \u001b[38;5;241m|\u001b[39m \u001b[38;5;28;01mNone\u001b[39;00m \u001b[38;5;241m=\u001b[39m \u001b[38;5;28;01mNone\u001b[39;00m\n\u001b[1;32m-> 1620\u001b[0m \u001b[38;5;28mself\u001b[39m\u001b[38;5;241m.\u001b[39m_engine \u001b[38;5;241m=\u001b[39m \u001b[38;5;28;43mself\u001b[39;49m\u001b[38;5;241;43m.\u001b[39;49m\u001b[43m_make_engine\u001b[49m\u001b[43m(\u001b[49m\u001b[43mf\u001b[49m\u001b[43m,\u001b[49m\u001b[43m \u001b[49m\u001b[38;5;28;43mself\u001b[39;49m\u001b[38;5;241;43m.\u001b[39;49m\u001b[43mengine\u001b[49m\u001b[43m)\u001b[49m\n",
      "File \u001b[1;32m~\\AppData\\Roaming\\Python\\Python312\\site-packages\\pandas\\io\\parsers\\readers.py:1880\u001b[0m, in \u001b[0;36mTextFileReader._make_engine\u001b[1;34m(self, f, engine)\u001b[0m\n\u001b[0;32m   1878\u001b[0m     \u001b[38;5;28;01mif\u001b[39;00m \u001b[38;5;124m\"\u001b[39m\u001b[38;5;124mb\u001b[39m\u001b[38;5;124m\"\u001b[39m \u001b[38;5;129;01mnot\u001b[39;00m \u001b[38;5;129;01min\u001b[39;00m mode:\n\u001b[0;32m   1879\u001b[0m         mode \u001b[38;5;241m+\u001b[39m\u001b[38;5;241m=\u001b[39m \u001b[38;5;124m\"\u001b[39m\u001b[38;5;124mb\u001b[39m\u001b[38;5;124m\"\u001b[39m\n\u001b[1;32m-> 1880\u001b[0m \u001b[38;5;28mself\u001b[39m\u001b[38;5;241m.\u001b[39mhandles \u001b[38;5;241m=\u001b[39m \u001b[43mget_handle\u001b[49m\u001b[43m(\u001b[49m\n\u001b[0;32m   1881\u001b[0m \u001b[43m    \u001b[49m\u001b[43mf\u001b[49m\u001b[43m,\u001b[49m\n\u001b[0;32m   1882\u001b[0m \u001b[43m    \u001b[49m\u001b[43mmode\u001b[49m\u001b[43m,\u001b[49m\n\u001b[0;32m   1883\u001b[0m \u001b[43m    \u001b[49m\u001b[43mencoding\u001b[49m\u001b[38;5;241;43m=\u001b[39;49m\u001b[38;5;28;43mself\u001b[39;49m\u001b[38;5;241;43m.\u001b[39;49m\u001b[43moptions\u001b[49m\u001b[38;5;241;43m.\u001b[39;49m\u001b[43mget\u001b[49m\u001b[43m(\u001b[49m\u001b[38;5;124;43m\"\u001b[39;49m\u001b[38;5;124;43mencoding\u001b[39;49m\u001b[38;5;124;43m\"\u001b[39;49m\u001b[43m,\u001b[49m\u001b[43m \u001b[49m\u001b[38;5;28;43;01mNone\u001b[39;49;00m\u001b[43m)\u001b[49m\u001b[43m,\u001b[49m\n\u001b[0;32m   1884\u001b[0m \u001b[43m    \u001b[49m\u001b[43mcompression\u001b[49m\u001b[38;5;241;43m=\u001b[39;49m\u001b[38;5;28;43mself\u001b[39;49m\u001b[38;5;241;43m.\u001b[39;49m\u001b[43moptions\u001b[49m\u001b[38;5;241;43m.\u001b[39;49m\u001b[43mget\u001b[49m\u001b[43m(\u001b[49m\u001b[38;5;124;43m\"\u001b[39;49m\u001b[38;5;124;43mcompression\u001b[39;49m\u001b[38;5;124;43m\"\u001b[39;49m\u001b[43m,\u001b[49m\u001b[43m \u001b[49m\u001b[38;5;28;43;01mNone\u001b[39;49;00m\u001b[43m)\u001b[49m\u001b[43m,\u001b[49m\n\u001b[0;32m   1885\u001b[0m \u001b[43m    \u001b[49m\u001b[43mmemory_map\u001b[49m\u001b[38;5;241;43m=\u001b[39;49m\u001b[38;5;28;43mself\u001b[39;49m\u001b[38;5;241;43m.\u001b[39;49m\u001b[43moptions\u001b[49m\u001b[38;5;241;43m.\u001b[39;49m\u001b[43mget\u001b[49m\u001b[43m(\u001b[49m\u001b[38;5;124;43m\"\u001b[39;49m\u001b[38;5;124;43mmemory_map\u001b[39;49m\u001b[38;5;124;43m\"\u001b[39;49m\u001b[43m,\u001b[49m\u001b[43m \u001b[49m\u001b[38;5;28;43;01mFalse\u001b[39;49;00m\u001b[43m)\u001b[49m\u001b[43m,\u001b[49m\n\u001b[0;32m   1886\u001b[0m \u001b[43m    \u001b[49m\u001b[43mis_text\u001b[49m\u001b[38;5;241;43m=\u001b[39;49m\u001b[43mis_text\u001b[49m\u001b[43m,\u001b[49m\n\u001b[0;32m   1887\u001b[0m \u001b[43m    \u001b[49m\u001b[43merrors\u001b[49m\u001b[38;5;241;43m=\u001b[39;49m\u001b[38;5;28;43mself\u001b[39;49m\u001b[38;5;241;43m.\u001b[39;49m\u001b[43moptions\u001b[49m\u001b[38;5;241;43m.\u001b[39;49m\u001b[43mget\u001b[49m\u001b[43m(\u001b[49m\u001b[38;5;124;43m\"\u001b[39;49m\u001b[38;5;124;43mencoding_errors\u001b[39;49m\u001b[38;5;124;43m\"\u001b[39;49m\u001b[43m,\u001b[49m\u001b[43m \u001b[49m\u001b[38;5;124;43m\"\u001b[39;49m\u001b[38;5;124;43mstrict\u001b[39;49m\u001b[38;5;124;43m\"\u001b[39;49m\u001b[43m)\u001b[49m\u001b[43m,\u001b[49m\n\u001b[0;32m   1888\u001b[0m \u001b[43m    \u001b[49m\u001b[43mstorage_options\u001b[49m\u001b[38;5;241;43m=\u001b[39;49m\u001b[38;5;28;43mself\u001b[39;49m\u001b[38;5;241;43m.\u001b[39;49m\u001b[43moptions\u001b[49m\u001b[38;5;241;43m.\u001b[39;49m\u001b[43mget\u001b[49m\u001b[43m(\u001b[49m\u001b[38;5;124;43m\"\u001b[39;49m\u001b[38;5;124;43mstorage_options\u001b[39;49m\u001b[38;5;124;43m\"\u001b[39;49m\u001b[43m,\u001b[49m\u001b[43m \u001b[49m\u001b[38;5;28;43;01mNone\u001b[39;49;00m\u001b[43m)\u001b[49m\u001b[43m,\u001b[49m\n\u001b[0;32m   1889\u001b[0m \u001b[43m\u001b[49m\u001b[43m)\u001b[49m\n\u001b[0;32m   1890\u001b[0m \u001b[38;5;28;01massert\u001b[39;00m \u001b[38;5;28mself\u001b[39m\u001b[38;5;241m.\u001b[39mhandles \u001b[38;5;129;01mis\u001b[39;00m \u001b[38;5;129;01mnot\u001b[39;00m \u001b[38;5;28;01mNone\u001b[39;00m\n\u001b[0;32m   1891\u001b[0m f \u001b[38;5;241m=\u001b[39m \u001b[38;5;28mself\u001b[39m\u001b[38;5;241m.\u001b[39mhandles\u001b[38;5;241m.\u001b[39mhandle\n",
      "File \u001b[1;32m~\\AppData\\Roaming\\Python\\Python312\\site-packages\\pandas\\io\\common.py:873\u001b[0m, in \u001b[0;36mget_handle\u001b[1;34m(path_or_buf, mode, encoding, compression, memory_map, is_text, errors, storage_options)\u001b[0m\n\u001b[0;32m    868\u001b[0m \u001b[38;5;28;01melif\u001b[39;00m \u001b[38;5;28misinstance\u001b[39m(handle, \u001b[38;5;28mstr\u001b[39m):\n\u001b[0;32m    869\u001b[0m     \u001b[38;5;66;03m# Check whether the filename is to be opened in binary mode.\u001b[39;00m\n\u001b[0;32m    870\u001b[0m     \u001b[38;5;66;03m# Binary mode does not support 'encoding' and 'newline'.\u001b[39;00m\n\u001b[0;32m    871\u001b[0m     \u001b[38;5;28;01mif\u001b[39;00m ioargs\u001b[38;5;241m.\u001b[39mencoding \u001b[38;5;129;01mand\u001b[39;00m \u001b[38;5;124m\"\u001b[39m\u001b[38;5;124mb\u001b[39m\u001b[38;5;124m\"\u001b[39m \u001b[38;5;129;01mnot\u001b[39;00m \u001b[38;5;129;01min\u001b[39;00m ioargs\u001b[38;5;241m.\u001b[39mmode:\n\u001b[0;32m    872\u001b[0m         \u001b[38;5;66;03m# Encoding\u001b[39;00m\n\u001b[1;32m--> 873\u001b[0m         handle \u001b[38;5;241m=\u001b[39m \u001b[38;5;28;43mopen\u001b[39;49m\u001b[43m(\u001b[49m\n\u001b[0;32m    874\u001b[0m \u001b[43m            \u001b[49m\u001b[43mhandle\u001b[49m\u001b[43m,\u001b[49m\n\u001b[0;32m    875\u001b[0m \u001b[43m            \u001b[49m\u001b[43mioargs\u001b[49m\u001b[38;5;241;43m.\u001b[39;49m\u001b[43mmode\u001b[49m\u001b[43m,\u001b[49m\n\u001b[0;32m    876\u001b[0m \u001b[43m            \u001b[49m\u001b[43mencoding\u001b[49m\u001b[38;5;241;43m=\u001b[39;49m\u001b[43mioargs\u001b[49m\u001b[38;5;241;43m.\u001b[39;49m\u001b[43mencoding\u001b[49m\u001b[43m,\u001b[49m\n\u001b[0;32m    877\u001b[0m \u001b[43m            \u001b[49m\u001b[43merrors\u001b[49m\u001b[38;5;241;43m=\u001b[39;49m\u001b[43merrors\u001b[49m\u001b[43m,\u001b[49m\n\u001b[0;32m    878\u001b[0m \u001b[43m            \u001b[49m\u001b[43mnewline\u001b[49m\u001b[38;5;241;43m=\u001b[39;49m\u001b[38;5;124;43m\"\u001b[39;49m\u001b[38;5;124;43m\"\u001b[39;49m\u001b[43m,\u001b[49m\n\u001b[0;32m    879\u001b[0m \u001b[43m        \u001b[49m\u001b[43m)\u001b[49m\n\u001b[0;32m    880\u001b[0m     \u001b[38;5;28;01melse\u001b[39;00m:\n\u001b[0;32m    881\u001b[0m         \u001b[38;5;66;03m# Binary mode\u001b[39;00m\n\u001b[0;32m    882\u001b[0m         handle \u001b[38;5;241m=\u001b[39m \u001b[38;5;28mopen\u001b[39m(handle, ioargs\u001b[38;5;241m.\u001b[39mmode)\n",
      "\u001b[1;31mFileNotFoundError\u001b[0m: [Errno 2] No such file or directory: '/content/student-mat.csv'"
     ]
    }
   ],
   "source": [
    "data = pd.read_csv(\"/content/student-mat.csv\", delimiter=\";\")\n",
    "print(data.columns)"
   ]
  },
  {
   "cell_type": "code",
   "execution_count": null,
   "id": "J528wJgMWEcL",
   "metadata": {
    "id": "J528wJgMWEcL"
   },
   "outputs": [],
   "source": [
    "data = data[[\"G1\", \"G2\", \"G3\", \"famrel\", \"traveltime\", \"studytime\", \"freetime\", \"absences\", \"age\", \"Medu\", \"Fedu\", \"failures\", \"goout\", \"Dalc\", \"Walc\"]]\n",
    "predict = \"G3\"\n",
    "X = np.array(data.drop([predict], axis=1))\n",
    "y = np.array(data[predict])\n",
    "X_train, X_test, y_train, y_test = sklearn.model_selection.train_test_split(X, y, test_size = 0.1)"
   ]
  },
  {
   "cell_type": "code",
   "execution_count": null,
   "id": "Nl8Y4Xepbb3C",
   "metadata": {
    "colab": {
     "base_uri": "https://localhost:8080/"
    },
    "id": "Nl8Y4Xepbb3C",
    "outputId": "2d8616d8-cbc0-4420-8b6c-f82830cc370f"
   },
   "outputs": [
    {
     "name": "stdout",
     "output_type": "stream",
     "text": [
      "0.7935442201020384\n"
     ]
    }
   ],
   "source": [
    "linear = linear_model.LinearRegression()\n",
    "linear.fit(X_train, y_train)\n",
    "acc = linear.score(X_test, y_test)\n",
    "print(acc)"
   ]
  },
  {
   "cell_type": "code",
   "execution_count": null,
   "id": "eidLcSWUbfjm",
   "metadata": {
    "colab": {
     "base_uri": "https://localhost:8080/"
    },
    "id": "eidLcSWUbfjm",
    "outputId": "0755d27d-38a4-4cea-f1d2-557689d08949"
   },
   "outputs": [
    {
     "name": "stdout",
     "output_type": "stream",
     "text": [
      "14.571464365669174 [16 15  1  1  1  4  5 18  4  4  0  2  2  2] 16\n",
      "16.685317060714745 [16 16  4  2  1  3  0 15  4  4  0  2  1  1] 15\n",
      "13.167873073524628 [13 13  5  1  3  4  7 18  3  2  0  3  2  3] 14\n",
      "8.44408281622089 [ 7 10  4  1  3  1  0 16  3  3  1  2  1  1] 10\n",
      "7.214083633169786 [ 6  9  1  1  1  2 14 16  2  2  2  2  1  3] 8\n",
      "9.757210725460359 [12 10  4  1  2  3  2 17  1  1  0  3  1  2] 11\n",
      "9.57803880017282 [10 10  5  2  4  3  6 16  2  2  0  5  1  1] 11\n",
      "7.004330958028351 [ 8  8  4  3  1  4  4 19  1  1  1  4  3  3] 8\n",
      "8.46073690672343 [ 8  9  3  2  1  3  0 16  2  1  0  2  1  3] 8\n",
      "14.441002018578832 [13 14  5  2  1  4  0 16  3  3  0  2  1  1] 13\n",
      "4.972915598110238 [ 7  6  3  1  1  3  0 16  4  4  0  2  2  1] 0\n",
      "12.167541364248185 [12 12  4  1  1  2  2 15  2  2  0  2  1  2] 11\n",
      "6.108872466444899 [ 7  7  4  1  3  3  0 16  3  3  0  3  1  3] 8\n",
      "10.21602474167034 [11 10  5  2  2  3  0 16  4  2  0  3  1  1] 10\n",
      "7.024511560611896 [ 9  8  4  1  4  5  2 18  2  2  0  5  2  4] 8\n",
      "8.514658191766124 [10  8  5  4  1  5  6 16  1  1  0  5  5  5] 11\n",
      "14.000580069972724 [14 14  4  2  3  3  4 17  4  4  0  3  1  2] 14\n",
      "20.11656792241926 [18 19  3  1  1  5 10 15  4  2  0  2  1  1] 19\n",
      "5.608507611345771 [ 7  6  4  2  1  4  5 18  2  1  0  3  1  3] 7\n",
      "13.07061101732095 [13 13  3  1  2  2 14 17  4  3  0  3  1  2] 14\n",
      "18.325947853517892 [16 18  5  1  3  3  2 16  3  3  0  3  1  1] 18\n",
      "14.45533640145852 [14 14  4  1  1  4  4 16  4  4  0  4  1  2] 14\n",
      "14.03546148164508 [15 14  3  1  3  2  2 15  4  2  0  2  1  1] 15\n",
      "8.811450799696546 [ 9 10  4  1  3  3  0 18  2  2  0  3  1  1] 0\n",
      "15.387819036703824 [14 15  5  1  2  5  0 15  3  4  0  1  1  1] 15\n",
      "13.553301469091718 [15 13  5  1  2  4  9 18  4  4  0  3  1  1] 15\n",
      "7.73273553392926 [10  9  2  2  2  3  0 19  4  4  0  4  2  3] 0\n",
      "0.25565116044170233 [10  0  5  3  2  4  0 17  3  4  0  5  2  4] 0\n",
      "6.860295800616424 [ 8  8  4  1  4  3 10 19  3  3  0  3  1  2] 8\n",
      "16.669403764477117 [17 16  4  2  2  3  0 15  4  4  0  1  1  1] 17\n",
      "8.327993793795368 [ 8  9  4  4  1  5  0 15  2  1  3  5  2  5] 10\n",
      "14.986079706537835 [15 15  4  1  3  2  0 17  4  3  0  2  1  2] 15\n",
      "11.70131853160493 [12 12  4  1  2  4  0 16  2  2  0  4  1  1] 11\n",
      "4.360055366385787 [ 6  5  5  1  1  5 16 17  3  2  3  5  2  4] 5\n",
      "15.90027228152422 [17 15  4  3  1  2  2 16  2  2  0  2  1  2] 15\n",
      "10.312419037019044 [10 10  5  2  2  4  2 15  4  3  0  3  1  2] 11\n",
      "12.52508558623138 [13 12  5  1  1  3  0 16  4  4  0  2  1  2] 12\n",
      "8.374659937865632 [ 8  9  5  2  2  4  4 18  1  1  0  4  1  1] 10\n",
      "-0.2440732762322287 [ 6  0  5  1  1  4  0 16  4  3  0  5  1  1] 0\n",
      "9.381217698077245 [ 7 10  3  2  2  3 25 16  2  2  1  3  1  2] 11\n"
     ]
    }
   ],
   "source": [
    "predictions = linear.predict(X_test)\n",
    "for x in range(len(predictions)):\n",
    "    print(predictions[x], X_test[x], y_test[x])"
   ]
  },
  {
   "cell_type": "code",
   "execution_count": null,
   "id": "H2G-lrFKbmeJ",
   "metadata": {
    "colab": {
     "base_uri": "https://localhost:8080/"
    },
    "id": "H2G-lrFKbmeJ",
    "outputId": "2290a87d-f628-4728-e064-b90ed24baddb"
   },
   "outputs": [
    {
     "name": "stdout",
     "output_type": "stream",
     "text": [
      "0.8900994712105716\n",
      "0.7727904204021623\n",
      "0.816254182165191\n",
      "0.8160970649118777\n",
      "0.9052888963200029\n",
      "0.8800762151603894\n",
      "0.7740772042376172\n",
      "0.9175192904882223\n",
      "0.7809839793369149\n",
      "0.8474064492394803\n",
      "0.7545408001781546\n",
      "0.8825150351615434\n",
      "0.8829131291928077\n",
      "0.774844545137358\n",
      "0.8191422860220732\n",
      "0.8695541071813673\n",
      "0.7942215535864157\n",
      "0.7772971384992589\n",
      "0.6993172962523613\n",
      "0.8635104014045999\n",
      "0.7444734820833143\n",
      "0.8500314269288548\n",
      "0.8859930247358172\n",
      "0.873015826354799\n",
      "0.8197249122780529\n",
      "0.8081901676556188\n",
      "0.7812585191802841\n",
      "0.8144086074104436\n",
      "0.7223164155155231\n",
      "0.7763496748385867\n",
      "0.7425786064631966\n",
      "0.7789102243495041\n",
      "0.8309398350386566\n",
      "0.8648355010348541\n",
      "0.8566158326934803\n",
      "0.8244733180145168\n",
      "0.8556069104029745\n",
      "0.8645350035654122\n",
      "0.9257020855255188\n",
      "0.8692635583488592\n",
      "0.9146290899305302\n",
      "0.7941461761422215\n",
      "0.8976073612530628\n",
      "0.7434454756662114\n",
      "0.885106300718048\n",
      "0.7501542696458761\n",
      "0.8761128972780555\n",
      "0.9684312817900883\n",
      "0.7613575149792159\n",
      "0.7078060352327058\n",
      "The average accuracy is:0.8261293760228532\n"
     ]
    }
   ],
   "source": [
    "best = 0\n",
    "acc_total = 0\n",
    "train_time = 50\n",
    "for result in range(train_time):\n",
    "\n",
    "  X_train, X_test, y_train, y_test = sklearn.model_selection.train_test_split(X, y, test_size = 0.1)\n",
    "  linear = linear_model.LinearRegression()\n",
    "  linear.fit(X_train, y_train)\n",
    "  acc = linear.score(X_test, y_test)\n",
    "  print(acc)\n",
    "  acc_total += acc\n",
    "\n",
    "  if acc > best:\n",
    "    best = acc\n",
    "    with open(\"studentgrades.pickle\", \"wb\") as f:\n",
    "      pickle.dump(linear, f)\n",
    "\n",
    "pickle_in = open(\"studentgrades.pickle\", \"rb\")\n",
    "linear = pickle.load(pickle_in)\n",
    "print ('The average accuracy is:' + str(acc_total/train_time))"
   ]
  },
  {
   "cell_type": "code",
   "execution_count": null,
   "id": "EhwYoKWibqet",
   "metadata": {
    "colab": {
     "base_uri": "https://localhost:8080/",
     "height": 453
    },
    "id": "EhwYoKWibqet",
    "outputId": "340603bf-8a7d-4826-a857-041644bc72bc"
   },
   "outputs": [
    {
     "data": {
      "image/png": "[encoded data removed]",
      "text/plain": [
       "<Figure size 640x480 with 1 Axes>"
      ]
     },
     "metadata": {},
     "output_type": "display_data"
    }
   ],
   "source": [
    "plot = \"absences\"\n",
    "style.use(\"ggplot\")\n",
    "plt.scatter(data[plot], data[\"G3\"])\n",
    "plt.xlabel(plot)\n",
    "plt.ylabel(\"Final Grade\")\n",
    "plt.show()"
   ]
  },
  {
   "cell_type": "code",
   "execution_count": null,
   "id": "c3ZQAZawc1kx",
   "metadata": {
    "id": "c3ZQAZawc1kx"
   },
   "outputs": [],
   "source": [
    "plot = \"absences\"\n",
    "style.use(\"ggplot\")\n",
    "plt.scatter(data[plot], data[\"G3\"])\n",
    "plt.xlabel(plot)\n",
    "plt.ylabel(\"Final Grade\")\n",
    "plt.show()"
   ]
  }
 ],
 "metadata": {
  "colab": {
   "provenance": []
  },
  "kernelspec": {
   "display_name": "Python 3",
   "language": "python",
   "name": "python3"
  },
  "language_info": {
   "codemirror_mode": {
    "name": "ipython",
    "version": 3
   },
   "file_extension": ".py",
   "mimetype": "text/x-python",
   "name": "python",
   "nbconvert_exporter": "python",
   "pygments_lexer": "ipython3",
   "version": "3.12.6"
  }
 },
 "nbformat": 4,
 "nbformat_minor": 5
}
